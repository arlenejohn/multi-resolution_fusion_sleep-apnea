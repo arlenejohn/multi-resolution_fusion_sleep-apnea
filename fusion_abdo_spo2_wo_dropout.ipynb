{
 "cells": [
  {
   "cell_type": "code",
   "execution_count": 1,
   "metadata": {},
   "outputs": [],
   "source": [
    "import numpy as np\n",
    "import pandas as pd\n",
    "from mat4py import loadmat\n",
    "from sklearn.model_selection import train_test_split\n",
    "from sklearn.metrics import confusion_matrix, accuracy_score\n",
    "from sklearn import metrics\n",
    "from sklearn.utils import resample\n",
    "\n",
    "import tensorflow\n",
    "from tensorflow.keras.callbacks import ModelCheckpoint\n",
    "import sklearn\n",
    "from tensorflow.keras.datasets import mnist\n",
    "from tensorflow.keras.models import Sequential\n",
    "from tensorflow.keras.models import Model\n",
    "from tensorflow.keras.layers import Dense, Dropout, Activation, Flatten, BatchNormalization,Concatenate,concatenate, Input\n",
    "from tensorflow.keras.layers import Conv2D, Conv1D, MaxPooling1D\n",
    "#from tensorflow.keras.utils import np_utils\n",
    "#from tensorflow.keras.utils.vis_utils import model_to_dot\n",
    "from tensorflow.keras.regularizers import l2"
   ]
  },
  {
   "cell_type": "code",
   "execution_count": 2,
   "metadata": {},
   "outputs": [],
   "source": [
    "tensorflow.keras.backend.clear_session()"
   ]
  },
  {
   "cell_type": "code",
   "execution_count": 3,
   "metadata": {},
   "outputs": [
    {
     "name": "stdout",
     "output_type": "stream",
     "text": [
      "Model: \"sequential\"\n",
      "_________________________________________________________________\n",
      "Layer (type)                 Output Shape              Param #   \n",
      "=================================================================\n",
      "batch_normalization (BatchNo (None, 88, 1)             4         \n",
      "_________________________________________________________________\n",
      "conv1d (Conv1D)              (None, 88, 6)             156       \n",
      "_________________________________________________________________\n",
      "activation (Activation)      (None, 88, 6)             0         \n",
      "_________________________________________________________________\n",
      "conv1d_1 (Conv1D)            (None, 88, 50)            3050      \n",
      "_________________________________________________________________\n",
      "max_pooling1d (MaxPooling1D) (None, 44, 50)            0         \n",
      "_________________________________________________________________\n",
      "activation_1 (Activation)    (None, 44, 50)            0         \n",
      "_________________________________________________________________\n",
      "conv1d_2 (Conv1D)            (None, 44, 30)            22530     \n",
      "_________________________________________________________________\n",
      "max_pooling1d_1 (MaxPooling1 (None, 22, 30)            0         \n",
      "_________________________________________________________________\n",
      "activation_2 (Activation)    (None, 22, 30)            0         \n",
      "_________________________________________________________________\n",
      "batch_normalization_1 (Batch (None, 22, 30)            120       \n",
      "_________________________________________________________________\n",
      "flatten (Flatten)            (None, 660)               0         \n",
      "_________________________________________________________________\n",
      "dropout (Dropout)            (None, 660)               0         \n",
      "_________________________________________________________________\n",
      "dense (Dense)                (None, 2)                 1322      \n",
      "=================================================================\n",
      "Total params: 27,182\n",
      "Trainable params: 27,120\n",
      "Non-trainable params: 62\n",
      "_________________________________________________________________\n"
     ]
    }
   ],
   "source": [
    "model_spo2 = Sequential()\n",
    "model_spo2.add(BatchNormalization(input_shape=(88,1)))\n",
    "model_spo2.add(Conv1D(6, kernel_size=(25),padding='same'))\n",
    "model_spo2.add(Activation(\"relu\"))\n",
    "#model_spo2.add(MaxPooling1D(pool_size=(2)))\n",
    "model_spo2.add(Conv1D(50, (10),padding='same'))\n",
    "model_spo2.add(MaxPooling1D(pool_size=(2)))\n",
    "model_spo2.add(Activation(\"relu\"))\n",
    "model_spo2.add(Conv1D(30, (15),padding='same'))\n",
    "model_spo2.add(MaxPooling1D(pool_size=(2)))\n",
    "model_spo2.add(Activation(\"relu\"))\n",
    "model_spo2.add(BatchNormalization())\n",
    "model_spo2.add(Flatten())\n",
    "model_spo2.add(Dropout(0.25))\n",
    "model_spo2.add(Dense(2, kernel_regularizer=l2(0.01), bias_regularizer=l2(0.01), activation='softmax'))\n",
    "\n",
    "model_spo2.summary()"
   ]
  },
  {
   "cell_type": "code",
   "execution_count": 4,
   "metadata": {},
   "outputs": [],
   "source": [
    "model_spo2.load_weights('./best_weights_spo2_3_312layer.hdf5')"
   ]
  },
  {
   "cell_type": "code",
   "execution_count": 5,
   "metadata": {},
   "outputs": [],
   "source": [
    "weight_spo2=model_spo2.get_weights()"
   ]
  },
  {
   "cell_type": "code",
   "execution_count": 6,
   "metadata": {},
   "outputs": [],
   "source": [
    "second_input = Input(shape=(88,1))\n",
    "second_batch = BatchNormalization(weights=weight_spo2[0:4],trainable=False)(second_input)\n",
    "second_conv= Conv1D(6,kernel_size=(25),padding='same',weights=[weight_spo2[4],weight_spo2[5]],trainable=False)(second_batch)\n",
    "second_act=Activation(\"relu\")(second_conv)\n",
    "second_conv2=Conv1D(50,kernel_size=(10),padding='same',weights=[weight_spo2[6],weight_spo2[7]],trainable=False)(second_act)\n",
    "second_maxpool2=MaxPooling1D(pool_size=(2))(second_conv2)\n",
    "second_act2=Activation(\"relu\")(second_maxpool2)\n",
    "second_conv3=Conv1D(30,kernel_size=(15),padding='same',weights=[weight_spo2[8],weight_spo2[9]],trainable=False)(second_maxpool2)\n",
    "second_maxpool3=MaxPooling1D(pool_size=(2))(second_conv3)\n",
    "second_act3=Activation(\"relu\")(second_maxpool3)\n",
    "second_batch2 = BatchNormalization(weights=weight_spo2[10:14],trainable=False)(second_act3)\n",
    "second_final = Flatten()(second_batch2)\n"
   ]
  },
  {
   "cell_type": "code",
   "execution_count": null,
   "metadata": {},
   "outputs": [],
   "source": []
  },
  {
   "cell_type": "code",
   "execution_count": 7,
   "metadata": {},
   "outputs": [
    {
     "name": "stdout",
     "output_type": "stream",
     "text": [
      "Model: \"sequential_1\"\n",
      "_________________________________________________________________\n",
      "Layer (type)                 Output Shape              Param #   \n",
      "=================================================================\n",
      "batch_normalization_4 (Batch (None, 1408, 1)           4         \n",
      "_________________________________________________________________\n",
      "conv1d_6 (Conv1D)            (None, 655, 3)            303       \n",
      "_________________________________________________________________\n",
      "activation_6 (Activation)    (None, 655, 3)            0         \n",
      "_________________________________________________________________\n",
      "max_pooling1d_4 (MaxPooling1 (None, 327, 3)            0         \n",
      "_________________________________________________________________\n",
      "conv1d_7 (Conv1D)            (None, 318, 50)           1550      \n",
      "_________________________________________________________________\n",
      "max_pooling1d_5 (MaxPooling1 (None, 159, 50)           0         \n",
      "_________________________________________________________________\n",
      "activation_7 (Activation)    (None, 159, 50)           0         \n",
      "_________________________________________________________________\n",
      "conv1d_8 (Conv1D)            (None, 130, 30)           45030     \n",
      "_________________________________________________________________\n",
      "max_pooling1d_6 (MaxPooling1 (None, 65, 30)            0         \n",
      "_________________________________________________________________\n",
      "activation_8 (Activation)    (None, 65, 30)            0         \n",
      "_________________________________________________________________\n",
      "batch_normalization_5 (Batch (None, 65, 30)            120       \n",
      "_________________________________________________________________\n",
      "flatten_2 (Flatten)          (None, 1950)              0         \n",
      "_________________________________________________________________\n",
      "dropout_1 (Dropout)          (None, 1950)              0         \n",
      "_________________________________________________________________\n",
      "dense_1 (Dense)              (None, 2)                 3902      \n",
      "=================================================================\n",
      "Total params: 50,909\n",
      "Trainable params: 50,847\n",
      "Non-trainable params: 62\n",
      "_________________________________________________________________\n"
     ]
    }
   ],
   "source": [
    "model_abdo = Sequential()\n",
    "model_abdo.add(BatchNormalization(input_shape=(1408,1)))\n",
    "model_abdo.add(Conv1D(3, kernel_size=(100),strides=2))\n",
    "model_abdo.add(Activation(\"relu\"))\n",
    "model_abdo.add(MaxPooling1D(pool_size=(2),strides=2))\n",
    "model_abdo.add(Conv1D(50, (10)))\n",
    "model_abdo.add(MaxPooling1D(pool_size=(2),strides=2))\n",
    "model_abdo.add(Activation(\"relu\"))\n",
    "model_abdo.add(Conv1D(30, (30)))\n",
    "model_abdo.add(MaxPooling1D(pool_size=(2)))\n",
    "model_abdo.add(Activation(\"relu\"))\n",
    "model_abdo.add(BatchNormalization())\n",
    "model_abdo.add(Flatten())\n",
    "model_abdo.add(Dropout(0.25))\n",
    "model_abdo.add(Dense(2, kernel_regularizer=l2(0.01), bias_regularizer=l2(0.01), activation='softmax'))\n",
    "\n",
    "model_abdo.summary()"
   ]
  },
  {
   "cell_type": "code",
   "execution_count": 8,
   "metadata": {},
   "outputs": [],
   "source": [
    "model_abdo.load_weights('./best_weights_abdo_32layer.hdf5')"
   ]
  },
  {
   "cell_type": "code",
   "execution_count": 9,
   "metadata": {},
   "outputs": [],
   "source": [
    "weight_abdo=model_abdo.get_weights()"
   ]
  },
  {
   "cell_type": "code",
   "execution_count": 10,
   "metadata": {},
   "outputs": [],
   "source": [
    "third_input = Input(shape=(1408,1))\n",
    "third_batch = BatchNormalization(weights=weight_abdo[0:4],trainable=False)(third_input)\n",
    "third_conv= Conv1D(3,kernel_size=(100),strides=2,weights=[weight_abdo[4],weight_abdo[5]],trainable=False)(third_batch)\n",
    "third_act=Activation(\"relu\")(third_conv)\n",
    "third_maxpool= MaxPooling1D(pool_size=(2),strides=2)(third_act)\n",
    "third_conv2=Conv1D(50,kernel_size=(10),weights=[weight_abdo[6],weight_abdo[7]],trainable=False)(third_maxpool)\n",
    "third_maxpool2=MaxPooling1D(pool_size=(2),strides=2)(third_conv2)\n",
    "third_act2=Activation(\"relu\")(third_maxpool2)\n",
    "third_conv3=Conv1D(30,kernel_size=(30),weights=[weight_abdo[8],weight_abdo[9]],trainable=False)(third_act2)\n",
    "third_maxpool3=MaxPooling1D(pool_size=(2))(third_conv3)\n",
    "third_act3=Activation(\"relu\")(third_maxpool3)\n",
    "third_batch2 = BatchNormalization(weights=weight_abdo[10:14],trainable=False)(third_act3)\n",
    "#third_flatten = Flatten()(third_batch2)\n",
    "#third_dropout=Dropout(0.33)(third_flatten)\n",
    "third_final=Flatten()(third_batch2)"
   ]
  },
  {
   "cell_type": "code",
   "execution_count": null,
   "metadata": {},
   "outputs": [],
   "source": []
  },
  {
   "cell_type": "code",
   "execution_count": 11,
   "metadata": {},
   "outputs": [],
   "source": [
    "merge_layer=concatenate([second_final, third_final])"
   ]
  },
  {
   "cell_type": "code",
   "execution_count": 12,
   "metadata": {},
   "outputs": [],
   "source": [
    "merge_batch1 = BatchNormalization()(merge_layer)\n",
    "merge_drop2 = Dropout(0.25)(merge_batch1)\n",
    "merge_dense2 = Dense(2, kernel_regularizer=l2(0.01), bias_regularizer=l2(0.01))(merge_drop2)\n",
    "merge_output= Activation(\"softmax\")(merge_dense2)"
   ]
  },
  {
   "cell_type": "code",
   "execution_count": 13,
   "metadata": {},
   "outputs": [],
   "source": [
    "model_merge_spo_abdo = Model(inputs=[second_input, third_input], outputs=merge_output)"
   ]
  },
  {
   "cell_type": "code",
   "execution_count": 14,
   "metadata": {},
   "outputs": [
    {
     "name": "stdout",
     "output_type": "stream",
     "text": [
      "Model: \"model\"\n",
      "__________________________________________________________________________________________________\n",
      "Layer (type)                    Output Shape         Param #     Connected to                     \n",
      "==================================================================================================\n",
      "input_2 (InputLayer)            [(None, 1408, 1)]    0                                            \n",
      "__________________________________________________________________________________________________\n",
      "batch_normalization_6 (BatchNor (None, 1408, 1)      4           input_2[0][0]                    \n",
      "__________________________________________________________________________________________________\n",
      "input_1 (InputLayer)            [(None, 88, 1)]      0                                            \n",
      "__________________________________________________________________________________________________\n",
      "conv1d_9 (Conv1D)               (None, 655, 3)       303         batch_normalization_6[0][0]      \n",
      "__________________________________________________________________________________________________\n",
      "batch_normalization_2 (BatchNor (None, 88, 1)        4           input_1[0][0]                    \n",
      "__________________________________________________________________________________________________\n",
      "activation_9 (Activation)       (None, 655, 3)       0           conv1d_9[0][0]                   \n",
      "__________________________________________________________________________________________________\n",
      "conv1d_3 (Conv1D)               (None, 88, 6)        156         batch_normalization_2[0][0]      \n",
      "__________________________________________________________________________________________________\n",
      "max_pooling1d_7 (MaxPooling1D)  (None, 327, 3)       0           activation_9[0][0]               \n",
      "__________________________________________________________________________________________________\n",
      "activation_3 (Activation)       (None, 88, 6)        0           conv1d_3[0][0]                   \n",
      "__________________________________________________________________________________________________\n",
      "conv1d_10 (Conv1D)              (None, 318, 50)      1550        max_pooling1d_7[0][0]            \n",
      "__________________________________________________________________________________________________\n",
      "conv1d_4 (Conv1D)               (None, 88, 50)       3050        activation_3[0][0]               \n",
      "__________________________________________________________________________________________________\n",
      "max_pooling1d_8 (MaxPooling1D)  (None, 159, 50)      0           conv1d_10[0][0]                  \n",
      "__________________________________________________________________________________________________\n",
      "max_pooling1d_2 (MaxPooling1D)  (None, 44, 50)       0           conv1d_4[0][0]                   \n",
      "__________________________________________________________________________________________________\n",
      "activation_10 (Activation)      (None, 159, 50)      0           max_pooling1d_8[0][0]            \n",
      "__________________________________________________________________________________________________\n",
      "conv1d_5 (Conv1D)               (None, 44, 30)       22530       max_pooling1d_2[0][0]            \n",
      "__________________________________________________________________________________________________\n",
      "conv1d_11 (Conv1D)              (None, 130, 30)      45030       activation_10[0][0]              \n",
      "__________________________________________________________________________________________________\n",
      "max_pooling1d_3 (MaxPooling1D)  (None, 22, 30)       0           conv1d_5[0][0]                   \n",
      "__________________________________________________________________________________________________\n",
      "max_pooling1d_9 (MaxPooling1D)  (None, 65, 30)       0           conv1d_11[0][0]                  \n",
      "__________________________________________________________________________________________________\n",
      "activation_5 (Activation)       (None, 22, 30)       0           max_pooling1d_3[0][0]            \n",
      "__________________________________________________________________________________________________\n",
      "activation_11 (Activation)      (None, 65, 30)       0           max_pooling1d_9[0][0]            \n",
      "__________________________________________________________________________________________________\n",
      "batch_normalization_3 (BatchNor (None, 22, 30)       120         activation_5[0][0]               \n",
      "__________________________________________________________________________________________________\n",
      "batch_normalization_7 (BatchNor (None, 65, 30)       120         activation_11[0][0]              \n",
      "__________________________________________________________________________________________________\n",
      "flatten_1 (Flatten)             (None, 660)          0           batch_normalization_3[0][0]      \n",
      "__________________________________________________________________________________________________\n",
      "flatten_3 (Flatten)             (None, 1950)         0           batch_normalization_7[0][0]      \n",
      "__________________________________________________________________________________________________\n",
      "concatenate (Concatenate)       (None, 2610)         0           flatten_1[0][0]                  \n",
      "                                                                 flatten_3[0][0]                  \n",
      "__________________________________________________________________________________________________\n",
      "batch_normalization_8 (BatchNor (None, 2610)         10440       concatenate[0][0]                \n",
      "__________________________________________________________________________________________________\n",
      "dropout_2 (Dropout)             (None, 2610)         0           batch_normalization_8[0][0]      \n",
      "__________________________________________________________________________________________________\n",
      "dense_2 (Dense)                 (None, 2)            5222        dropout_2[0][0]                  \n",
      "__________________________________________________________________________________________________\n",
      "activation_12 (Activation)      (None, 2)            0           dense_2[0][0]                    \n",
      "==================================================================================================\n",
      "Total params: 88,529\n",
      "Trainable params: 10,442\n",
      "Non-trainable params: 78,087\n",
      "__________________________________________________________________________________________________\n"
     ]
    }
   ],
   "source": [
    "model_merge_spo_abdo.summary()"
   ]
  },
  {
   "cell_type": "code",
   "execution_count": 15,
   "metadata": {},
   "outputs": [],
   "source": [
    "batch_size = 64\n",
    "epochs = 50\n",
    "\n",
    "opt = tensorflow.keras.optimizers.Adam(learning_rate=0.0001)\n",
    "model_merge_spo_abdo.compile(loss='binary_crossentropy',\n",
    "              optimizer=opt,\n",
    "              metrics=['accuracy'])"
   ]
  },
  {
   "cell_type": "code",
   "execution_count": 16,
   "metadata": {},
   "outputs": [],
   "source": [
    "list_string=['ucddb002','ucddb003','ucddb005','ucddb006','ucddb007','ucddb009',\\\n",
    "             'ucddb010','ucddb012','ucddb014','ucddb015','ucddb017',\\\n",
    "             'ucddb019','ucddb020','ucddb021','ucddb022','ucddb023','ucddb024',\\\n",
    "             'ucddb025','ucddb026','ucddb027','ucddb028']#'ucddb008','ucddb011','ucddb013','ucddb014',\n",
    "\n",
    "\n",
    "\n",
    "\n",
    "valid_features1=np.zeros((1,1408))\n",
    "valid_features2=np.zeros((1,1408))\n",
    "valid_features3=np.zeros((1,1408))\n",
    "test_features1=np.zeros((1,1408))\n",
    "test_features2=np.zeros((1,1408))\n",
    "test_features3=np.zeros((1,1408))\n",
    "valid_labels=np.zeros((1,1))\n",
    "test_labels=np.zeros((1,1))\n",
    "for l in list_string:\n",
    "        \n",
    "        \n",
    "        spo2_valid = loadmat('D:\\\\PhD topics\\\\Datasets\\\\sleep_apnea\\\\selected\\\\'+l+'_spo2_valid.mat')\n",
    "        spo2_valid = np.array(spo2_valid['spo2_valid'])\n",
    "        \n",
    "        abdo_valid = loadmat('D:\\\\PhD topics\\\\Datasets\\\\sleep_apnea\\\\selected\\\\'+l+'_abdo_valid.mat')\n",
    "        abdo_valid = np.array(abdo_valid['abdo_valid'])\n",
    "        spo2_valid_labels=loadmat('D:\\\\PhD topics\\\\Datasets\\\\sleep_apnea\\\\selected\\\\'+l+'_valid_labels.mat')\n",
    "        spo2_valid_labels = np.array(spo2_valid_labels['class_valid'])\n",
    "        valid_features1=np.append(valid_features1,spo2_valid,axis=0)\n",
    "        \n",
    "        valid_features3=np.append(valid_features3,abdo_valid,axis=0)\n",
    "        valid_labels=np.append(valid_labels,spo2_valid_labels)\n",
    "       \n",
    "        \n",
    "        spo2_test = loadmat('D:\\\\PhD topics\\\\Datasets\\\\sleep_apnea\\\\selected\\\\'+l+'_spo2_test.mat')\n",
    "        spo2_test = np.array(spo2_test['spo2_test'])\n",
    "       \n",
    "        abdo_test = loadmat('D:\\\\PhD topics\\\\Datasets\\\\sleep_apnea\\\\selected\\\\'+l+'_abdo_test.mat')\n",
    "        abdo_test = np.array(abdo_test['abdo_test'])\n",
    "        spo2_test_labels=loadmat('D:\\\\PhD topics\\\\Datasets\\\\sleep_apnea\\\\selected\\\\'+l+'_test_labels.mat')\n",
    "        spo2_test_labels = np.array(spo2_test_labels['class_test'])\n",
    "        test_features1=np.append(test_features1,spo2_test,axis=0)\n",
    "        \n",
    "        test_features3=np.append(test_features3,abdo_test,axis=0)\n",
    "        test_labels=np.append(test_labels,spo2_test_labels)\n",
    "        \n",
    "spo2_valid=valid_features1[1:,0::16]\n",
    "\n",
    "abdo_valid=valid_features3[1:]\n",
    "valid_labels=valid_labels[1:]\n",
    "valid_labels = valid_labels.flatten()\n",
    "\n",
    "spo2_test=test_features1[1:,0::16]\n",
    "\n",
    "abdo_test=test_features3[1:]\n",
    "test_labels=test_labels[1:]\n",
    "test_labels = test_labels.flatten()"
   ]
  },
  {
   "cell_type": "code",
   "execution_count": 17,
   "metadata": {},
   "outputs": [],
   "source": [
    "train_features1=np.zeros((1,1408))\n",
    "train_features2=np.zeros((1,1408))\n",
    "train_features3=np.zeros((1,1408))\n",
    "\n",
    "train_labels=np.zeros((1,1))\n",
    "\n",
    "for l in list_string:\n",
    "        spo2_train = loadmat('D:\\\\PhD topics\\\\Datasets\\\\sleep_apnea\\\\selected\\\\'+l+'_spo2_train.mat')\n",
    "        spo2_train = np.array(spo2_train['spo2_train'])\n",
    "        \n",
    "        abdo_train = loadmat('D:\\\\PhD topics\\\\Datasets\\\\sleep_apnea\\\\selected\\\\'+l+'_abdo_train.mat')\n",
    "        abdo_train = np.array(abdo_train['abdo_train'])\n",
    "        spo2_train_labels=loadmat('D:\\\\PhD topics\\\\Datasets\\\\sleep_apnea\\\\selected\\\\'+l+'_train_labels.mat')\n",
    "        spo2_train_labels = np.array(spo2_train_labels['class_train'])\n",
    "        train_features1=np.append(train_features1,spo2_train,axis=0)\n",
    "        \n",
    "        train_features3=np.append(train_features3,abdo_train,axis=0)\n",
    "        train_labels=np.append(train_labels,spo2_train_labels)\n",
    "        \n",
    "spo2_train=train_features1[1:,0::16]\n",
    "\n",
    "abdo_train=train_features3[1:]\n",
    "train_labels=train_labels[1:]\n",
    "train_labels = train_labels.flatten()"
   ]
  },
  {
   "cell_type": "code",
   "execution_count": 18,
   "metadata": {},
   "outputs": [],
   "source": [
    "train_features1=0\n",
    "train_features2=0\n",
    "train_features3=0\n",
    "valid_features1=0\n",
    "valid_features2=0\n",
    "valid_features3=0\n",
    "test_features1=0\n",
    "test_features2=0\n",
    "test_features3=0"
   ]
  },
  {
   "cell_type": "code",
   "execution_count": 19,
   "metadata": {},
   "outputs": [],
   "source": [
    "abdo_train_mean=np.mean(abdo_train)\n",
    "abdo_train_std=np.std(abdo_train)"
   ]
  },
  {
   "cell_type": "code",
   "execution_count": 20,
   "metadata": {},
   "outputs": [],
   "source": [
    "for i in range(abdo_train.shape[0]):\n",
    "    abdo_train[i,:]=(abdo_train[i,:]-abdo_train_mean)/abdo_train_std\n",
    "    \n",
    "for i in range(abdo_valid.shape[0]):\n",
    "    abdo_valid[i,:]=(abdo_valid[i,:]-abdo_train_mean)/abdo_train_std\n",
    "    \n",
    "for i in range(abdo_test.shape[0]):\n",
    "    abdo_test[i,:]=(abdo_test[i,:]-abdo_train_mean)/abdo_train_std\n",
    "    \n",
    "\n",
    "abdo_train=np.expand_dims(abdo_train, axis=2)\n",
    "abdo_valid=np.expand_dims(abdo_valid, axis=2)\n",
    "abdo_test=np.expand_dims(abdo_test, axis=2)"
   ]
  },
  {
   "cell_type": "code",
   "execution_count": 21,
   "metadata": {},
   "outputs": [],
   "source": [
    "spo2_train_mean=np.mean(spo2_train)\n",
    "spo2_train_std=np.std(spo2_train)"
   ]
  },
  {
   "cell_type": "code",
   "execution_count": 22,
   "metadata": {},
   "outputs": [],
   "source": [
    "for i in range(spo2_train.shape[0]):\n",
    "    spo2_train[i,:]=(spo2_train[i,:]-spo2_train_mean)/spo2_train_std\n",
    "    \n",
    "for i in range(spo2_valid.shape[0]):\n",
    "    spo2_valid[i,:]=(spo2_valid[i,:]-spo2_train_mean)/spo2_train_std\n",
    "    \n",
    "for i in range(spo2_test.shape[0]):\n",
    "    spo2_test[i,:]=(spo2_test[i,:]-spo2_train_mean)/spo2_train_std\n",
    "\n",
    "spo2_train=np.expand_dims(spo2_train, axis=2)\n",
    "spo2_valid=np.expand_dims(spo2_valid, axis=2)\n",
    "spo2_test=np.expand_dims(spo2_test, axis=2)"
   ]
  },
  {
   "cell_type": "code",
   "execution_count": 23,
   "metadata": {},
   "outputs": [],
   "source": [
    "y_train=train_labels\n",
    "y_valid=valid_labels\n",
    "y_test=test_labels"
   ]
  },
  {
   "cell_type": "code",
   "execution_count": 24,
   "metadata": {},
   "outputs": [],
   "source": [
    "num_classes=2\n",
    "y_train_encoder = sklearn.preprocessing.LabelEncoder()\n",
    "y_train_num = y_train_encoder.fit_transform(y_train)\n",
    "y_train_wide = tensorflow.keras.utils.to_categorical(y_train_num, num_classes)\n",
    "\n",
    "y_valid_num = y_train_encoder.fit_transform(y_valid)\n",
    "y_valid_wide = tensorflow.keras.utils.to_categorical(y_valid_num, num_classes)\n",
    "\n",
    "y_test_num = y_train_encoder.fit_transform(y_test)\n",
    "y_test_wide = tensorflow.keras.utils.to_categorical(y_test_num, num_classes)"
   ]
  },
  {
   "cell_type": "code",
   "execution_count": null,
   "metadata": {},
   "outputs": [],
   "source": []
  },
  {
   "cell_type": "code",
   "execution_count": null,
   "metadata": {},
   "outputs": [],
   "source": []
  },
  {
   "cell_type": "code",
   "execution_count": 25,
   "metadata": {},
   "outputs": [
    {
     "name": "stdout",
     "output_type": "stream",
     "text": [
      "Epoch 1/50\n",
      "12593/12593 [==============================] - 56s 4ms/step - loss: 0.0790 - accuracy: 0.9832 - val_loss: 0.0356 - val_accuracy: 0.9970\n",
      "Epoch 2/50\n",
      "12593/12593 [==============================] - 54s 4ms/step - loss: 0.0477 - accuracy: 0.9926 - val_loss: 0.0343 - val_accuracy: 0.9968\n",
      "Epoch 3/50\n",
      "12593/12593 [==============================] - 54s 4ms/step - loss: 0.0453 - accuracy: 0.9928 - val_loss: 0.0316 - val_accuracy: 0.9970\n",
      "Epoch 4/50\n",
      "12593/12593 [==============================] - 54s 4ms/step - loss: 0.0438 - accuracy: 0.9928 - val_loss: 0.0314 - val_accuracy: 0.9967\n",
      "Epoch 5/50\n",
      "12593/12593 [==============================] - 54s 4ms/step - loss: 0.0422 - accuracy: 0.9929 - val_loss: 0.0296 - val_accuracy: 0.9970\n",
      "Epoch 6/50\n",
      "12593/12593 [==============================] - 55s 4ms/step - loss: 0.0411 - accuracy: 0.9929 - val_loss: 0.0282 - val_accuracy: 0.9969\n",
      "Epoch 7/50\n",
      "12593/12593 [==============================] - 54s 4ms/step - loss: 0.0401 - accuracy: 0.9929 - val_loss: 0.0278 - val_accuracy: 0.9970\n",
      "Epoch 8/50\n",
      "12593/12593 [==============================] - 54s 4ms/step - loss: 0.0390 - accuracy: 0.9929 - val_loss: 0.0275 - val_accuracy: 0.9968\n",
      "Epoch 9/50\n",
      "12593/12593 [==============================] - 55s 4ms/step - loss: 0.0383 - accuracy: 0.9930 - val_loss: 0.0266 - val_accuracy: 0.9970\n",
      "Epoch 10/50\n",
      "12593/12593 [==============================] - 54s 4ms/step - loss: 0.0378 - accuracy: 0.9930 - val_loss: 0.0255 - val_accuracy: 0.9973\n",
      "Epoch 11/50\n",
      "12593/12593 [==============================] - 54s 4ms/step - loss: 0.0373 - accuracy: 0.9929 - val_loss: 0.0262 - val_accuracy: 0.9970\n",
      "Epoch 12/50\n",
      "12593/12593 [==============================] - 54s 4ms/step - loss: 0.0364 - accuracy: 0.9929 - val_loss: 0.0244 - val_accuracy: 0.9970\n",
      "Epoch 13/50\n",
      "12593/12593 [==============================] - 54s 4ms/step - loss: 0.0358 - accuracy: 0.9931 - val_loss: 0.0245 - val_accuracy: 0.9971\n",
      "Epoch 14/50\n",
      "12593/12593 [==============================] - 54s 4ms/step - loss: 0.0354 - accuracy: 0.9931 - val_loss: 0.0240 - val_accuracy: 0.9973\n",
      "Epoch 15/50\n",
      "12593/12593 [==============================] - 54s 4ms/step - loss: 0.0351 - accuracy: 0.9931 - val_loss: 0.0244 - val_accuracy: 0.9970\n",
      "Epoch 16/50\n",
      "12593/12593 [==============================] - 54s 4ms/step - loss: 0.0345 - accuracy: 0.9930 - val_loss: 0.0226 - val_accuracy: 0.9970\n",
      "Epoch 17/50\n",
      "12593/12593 [==============================] - 55s 4ms/step - loss: 0.0341 - accuracy: 0.9931 - val_loss: 0.0225 - val_accuracy: 0.9969\n",
      "Epoch 18/50\n",
      "12593/12593 [==============================] - 57s 5ms/step - loss: 0.0339 - accuracy: 0.9932 - val_loss: 0.0229 - val_accuracy: 0.9971\n",
      "Epoch 19/50\n",
      "12593/12593 [==============================] - 56s 4ms/step - loss: 0.0333 - accuracy: 0.9932 - val_loss: 0.0221 - val_accuracy: 0.9972\n",
      "Epoch 20/50\n",
      "12593/12593 [==============================] - 55s 4ms/step - loss: 0.0330 - accuracy: 0.9932 - val_loss: 0.0223 - val_accuracy: 0.9971\n",
      "Epoch 21/50\n",
      "12593/12593 [==============================] - 55s 4ms/step - loss: 0.0331 - accuracy: 0.9931 - val_loss: 0.0219 - val_accuracy: 0.9971\n",
      "Epoch 22/50\n",
      "12593/12593 [==============================] - 55s 4ms/step - loss: 0.0327 - accuracy: 0.9931 - val_loss: 0.0214 - val_accuracy: 0.9970\n",
      "Epoch 23/50\n",
      "12593/12593 [==============================] - 56s 4ms/step - loss: 0.0321 - accuracy: 0.9933 - val_loss: 0.0216 - val_accuracy: 0.9970\n",
      "Epoch 24/50\n",
      "12593/12593 [==============================] - 55s 4ms/step - loss: 0.0320 - accuracy: 0.9932 - val_loss: 0.0210 - val_accuracy: 0.9971\n",
      "Epoch 25/50\n",
      "12593/12593 [==============================] - 55s 4ms/step - loss: 0.0319 - accuracy: 0.9931 - val_loss: 0.0212 - val_accuracy: 0.9973\n",
      "Epoch 26/50\n",
      "12593/12593 [==============================] - 55s 4ms/step - loss: 0.0318 - accuracy: 0.9931 - val_loss: 0.0203 - val_accuracy: 0.9974\n",
      "Epoch 27/50\n",
      "12593/12593 [==============================] - 55s 4ms/step - loss: 0.0313 - accuracy: 0.9933 - val_loss: 0.0200 - val_accuracy: 0.9971\n",
      "Epoch 28/50\n",
      "12593/12593 [==============================] - 55s 4ms/step - loss: 0.0310 - accuracy: 0.9933 - val_loss: 0.0206 - val_accuracy: 0.9971\n",
      "Epoch 29/50\n",
      "12593/12593 [==============================] - 55s 4ms/step - loss: 0.0307 - accuracy: 0.9933 - val_loss: 0.0205 - val_accuracy: 0.9969\n",
      "Epoch 30/50\n",
      "12593/12593 [==============================] - 55s 4ms/step - loss: 0.0308 - accuracy: 0.9931 - val_loss: 0.0194 - val_accuracy: 0.9974\n",
      "Epoch 31/50\n",
      "12593/12593 [==============================] - 55s 4ms/step - loss: 0.0309 - accuracy: 0.9932 - val_loss: 0.0200 - val_accuracy: 0.9972\n",
      "Epoch 32/50\n",
      "12593/12593 [==============================] - 55s 4ms/step - loss: 0.0304 - accuracy: 0.9932 - val_loss: 0.0203 - val_accuracy: 0.9971\n",
      "Epoch 33/50\n",
      "12593/12593 [==============================] - 55s 4ms/step - loss: 0.0302 - accuracy: 0.9932 - val_loss: 0.0197 - val_accuracy: 0.9971\n",
      "Epoch 34/50\n",
      "12593/12593 [==============================] - 55s 4ms/step - loss: 0.0299 - accuracy: 0.9933 - val_loss: 0.0198 - val_accuracy: 0.9970\n",
      "Epoch 35/50\n",
      "12593/12593 [==============================] - 55s 4ms/step - loss: 0.0299 - accuracy: 0.9932 - val_loss: 0.0195 - val_accuracy: 0.9966\n",
      "Epoch 36/50\n",
      "12593/12593 [==============================] - 56s 4ms/step - loss: 0.0299 - accuracy: 0.9932 - val_loss: 0.0194 - val_accuracy: 0.9971\n",
      "Epoch 37/50\n",
      "12593/12593 [==============================] - 55s 4ms/step - loss: 0.0298 - accuracy: 0.9932 - val_loss: 0.0198 - val_accuracy: 0.9971\n",
      "Epoch 38/50\n",
      "12593/12593 [==============================] - 55s 4ms/step - loss: 0.0294 - accuracy: 0.9933 - val_loss: 0.0190 - val_accuracy: 0.9973\n",
      "Epoch 39/50\n",
      "12593/12593 [==============================] - 55s 4ms/step - loss: 0.0295 - accuracy: 0.9932 - val_loss: 0.0189 - val_accuracy: 0.9971\n",
      "Epoch 40/50\n",
      "12593/12593 [==============================] - 55s 4ms/step - loss: 0.0293 - accuracy: 0.9932 - val_loss: 0.0191 - val_accuracy: 0.9972\n",
      "Epoch 41/50\n",
      "12593/12593 [==============================] - 55s 4ms/step - loss: 0.0294 - accuracy: 0.9931 - val_loss: 0.0186 - val_accuracy: 0.9969\n",
      "Epoch 42/50\n",
      "12593/12593 [==============================] - 55s 4ms/step - loss: 0.0291 - accuracy: 0.9932 - val_loss: 0.0193 - val_accuracy: 0.9971\n",
      "Epoch 43/50\n",
      "12593/12593 [==============================] - 55s 4ms/step - loss: 0.0292 - accuracy: 0.9931 - val_loss: 0.0179 - val_accuracy: 0.9974\n",
      "Epoch 44/50\n",
      "12593/12593 [==============================] - 55s 4ms/step - loss: 0.0289 - accuracy: 0.9933 - val_loss: 0.0185 - val_accuracy: 0.9972\n",
      "Epoch 45/50\n",
      "12593/12593 [==============================] - 56s 4ms/step - loss: 0.0287 - accuracy: 0.9932 - val_loss: 0.0181 - val_accuracy: 0.9971\n",
      "Epoch 46/50\n",
      "12593/12593 [==============================] - 55s 4ms/step - loss: 0.0288 - accuracy: 0.9931 - val_loss: 0.0177 - val_accuracy: 0.9972\n",
      "Epoch 47/50\n",
      "12593/12593 [==============================] - 55s 4ms/step - loss: 0.0289 - accuracy: 0.9931 - val_loss: 0.0193 - val_accuracy: 0.9972\n",
      "Epoch 48/50\n",
      "12593/12593 [==============================] - 55s 4ms/step - loss: 0.0286 - accuracy: 0.9932 - val_loss: 0.0176 - val_accuracy: 0.9973\n",
      "Epoch 49/50\n",
      "12593/12593 [==============================] - 55s 4ms/step - loss: 0.0284 - accuracy: 0.9932 - val_loss: 0.0187 - val_accuracy: 0.9972\n",
      "Epoch 50/50\n",
      "12593/12593 [==============================] - 55s 4ms/step - loss: 0.0281 - accuracy: 0.9932 - val_loss: 0.0172 - val_accuracy: 0.9973\n"
     ]
    }
   ],
   "source": [
    "best_weights_filepath_merge = './best_weights_fusion_spo_abdo_18_8_wo_drop.hdf5'\n",
    "mcp_merge = ModelCheckpoint(best_weights_filepath_merge, monitor=\"val_accuracy\",\n",
    "                      save_best_only=True, save_weights_only=False)\n",
    "            \n",
    "history = model_merge_spo_abdo.fit([spo2_train, abdo_train], y_train_wide,\n",
    "         batch_size=batch_size,\n",
    "          epochs=epochs,\n",
    "          verbose=1,\n",
    "          validation_data=([spo2_valid, abdo_valid], y_valid_wide),\n",
    "          callbacks=[mcp_merge])"
   ]
  },
  {
   "cell_type": "markdown",
   "metadata": {},
   "source": [
    "# load weights"
   ]
  },
  {
   "cell_type": "code",
   "execution_count": 26,
   "metadata": {},
   "outputs": [
    {
     "data": {
      "text/plain": [
       "array([[50218,   150],\n",
       "       [   16,  1352]], dtype=int64)"
      ]
     },
     "execution_count": 26,
     "metadata": {},
     "output_type": "execute_result"
    }
   ],
   "source": [
    "model_merge_spo_abdo.load_weights('./best_weights_fusion_spo_abdo_18_8_wo_drop.hdf5')\n",
    "y_pred = model_merge_spo_abdo.predict([spo2_test, abdo_test])\n",
    "predict_test=np.argmax(y_pred, axis=1)\n",
    "predict_test=predict_test.reshape(predict_test.shape[0],1)\n",
    "cm=confusion_matrix(y_test_num, predict_test)\n",
    "cm"
   ]
  },
  {
   "cell_type": "code",
   "execution_count": 27,
   "metadata": {},
   "outputs": [
    {
     "data": {
      "text/plain": [
       "0.9967914025050255"
      ]
     },
     "execution_count": 27,
     "metadata": {},
     "output_type": "execute_result"
    }
   ],
   "source": [
    "(cm[1,1]+cm[0,0])/(cm[1,1]+cm[1,0]+cm[0,0]+cm[0,1])"
   ]
  },
  {
   "cell_type": "code",
   "execution_count": 28,
   "metadata": {},
   "outputs": [
    {
     "data": {
      "text/plain": [
       "0.9883040935672515"
      ]
     },
     "execution_count": 28,
     "metadata": {},
     "output_type": "execute_result"
    }
   ],
   "source": [
    "cm[1,1]/(cm[1,1]+cm[1,0])"
   ]
  },
  {
   "cell_type": "code",
   "execution_count": 29,
   "metadata": {},
   "outputs": [
    {
     "data": {
      "text/plain": [
       "0.9970219186785261"
      ]
     },
     "execution_count": 29,
     "metadata": {},
     "output_type": "execute_result"
    }
   ],
   "source": [
    "cm[0,0]/(cm[0,0]+cm[0,1])"
   ]
  },
  {
   "cell_type": "code",
   "execution_count": 30,
   "metadata": {},
   "outputs": [
    {
     "name": "stdout",
     "output_type": "stream",
     "text": [
      "0.9856945812807882\n"
     ]
    }
   ],
   "source": [
    "TP=cm[1,1]\n",
    "FN=cm[1,0]\n",
    "FP=cm[0,1]\n",
    "F6=(37*(TP/(TP+FN))*(TP/(TP+FP)))/(36*(TP/(TP+FP))+(TP/(TP+FN)))\n",
    "print(F6)"
   ]
  },
  {
   "cell_type": "code",
   "execution_count": 32,
   "metadata": {},
   "outputs": [],
   "source": []
  },
  {
   "cell_type": "code",
   "execution_count": null,
   "metadata": {},
   "outputs": [],
   "source": []
  }
 ],
 "metadata": {
  "kernelspec": {
   "display_name": "Python 3",
   "language": "python",
   "name": "python3"
  },
  "language_info": {
   "codemirror_mode": {
    "name": "ipython",
    "version": 3
   },
   "file_extension": ".py",
   "mimetype": "text/x-python",
   "name": "python",
   "nbconvert_exporter": "python",
   "pygments_lexer": "ipython3",
   "version": "3.7.3"
  }
 },
 "nbformat": 4,
 "nbformat_minor": 2
}
